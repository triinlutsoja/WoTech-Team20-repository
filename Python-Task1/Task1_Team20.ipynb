{
  "nbformat": 4,
  "nbformat_minor": 0,
  "metadata": {
    "colab": {
      "provenance": [],
      "authorship_tag": "ABX9TyOI6HRtOkV7U9rT7j1LZVi+",
      "include_colab_link": true
    },
    "kernelspec": {
      "name": "python3",
      "display_name": "Python 3"
    },
    "language_info": {
      "name": "python"
    }
  },
  "cells": [
    {
      "cell_type": "markdown",
      "metadata": {
        "id": "view-in-github",
        "colab_type": "text"
      },
      "source": [
        "<a href=\"https://colab.research.google.com/github/triinlutsoja/WoTech-Team20-repository/blob/lesson-14%2FLasma-read_data/Task1_Team20.ipynb\" target=\"_parent\"><img src=\"https://colab.research.google.com/assets/colab-badge.svg\" alt=\"Open In Colab\"/></a>"
      ]
    },
    {
      "cell_type": "code",
      "source": [
        "import pandas as pd\n",
        "import matplotlib.pyplot as plt"
      ],
      "metadata": {
        "id": "QoJYvl89dABQ"
      },
      "execution_count": 1,
      "outputs": []
    },
    {
      "cell_type": "code",
      "source": [
        "url = '/content/transaction_dataset.csv'\n",
        "df = pd.read_csv(url)"
      ],
      "metadata": {
        "id": "7iYfLhG4dygi"
      },
      "execution_count": 2,
      "outputs": []
    },
    {
      "cell_type": "code",
      "source": [
        "print(df.head())"
      ],
      "metadata": {
        "colab": {
          "base_uri": "https://localhost:8080/"
        },
        "id": "kFi_neAVd-SD",
        "outputId": "d9c705b8-ee97-425d-c626-52099e1fce09"
      },
      "execution_count": 3,
      "outputs": [
        {
          "output_type": "stream",
          "name": "stdout",
          "text": [
            "   Customer ID      Name    Surname Gender   Birthdate  Transaction Amount  \\\n",
            "0       752858      Sean  Rodriguez      F  20/10/2002               35.47   \n",
            "1        26381  Michelle     Phelps    NaN  24/10/1985             2552.72   \n",
            "2       305449     Jacob   Williams      M  25/10/1981              115.97   \n",
            "3       988259    Nathan     Snyder      M  26/10/1977               11.31   \n",
            "4       764762   Crystal      Knapp      F  02/11/1951               62.21   \n",
            "\n",
            "         Date               Merchant Name     Category  \n",
            "0  03/04/2023               Smith-Russell     Cosmetic  \n",
            "1  17/07/2023      Peck, Spence and Young       Travel  \n",
            "2  20/09/2023                  Steele Inc     Clothing  \n",
            "3  11/01/2023  Wilson, Wilson and Russell     Cosmetic  \n",
            "4  13/06/2023               Palmer-Hinton  Electronics  \n"
          ]
        }
      ]
    }
  ]
}
