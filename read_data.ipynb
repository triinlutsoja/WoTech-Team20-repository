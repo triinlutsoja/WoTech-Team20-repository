{
  "nbformat": 4,
  "nbformat_minor": 0,
  "metadata": {
    "colab": {
      "provenance": [],
      "authorship_tag": "ABX9TyPd/TSelfpeHmmk87xACeW+",
      "include_colab_link": true
    },
    "kernelspec": {
      "name": "python3",
      "display_name": "Python 3"
    },
    "language_info": {
      "name": "python"
    }
  },
  "cells": [
    {
      "cell_type": "markdown",
      "metadata": {
        "id": "view-in-github",
        "colab_type": "text"
      },
      "source": [
        "<a href=\"https://colab.research.google.com/github/triinlutsoja/WoTech-Team20-repository/blob/lesson-14%2FLasma-read_data/read_data.ipynb\" target=\"_parent\"><img src=\"https://colab.research.google.com/assets/colab-badge.svg\" alt=\"Open In Colab\"/></a>"
      ]
    },
    {
      "cell_type": "code",
      "execution_count": 1,
      "metadata": {
        "id": "W4SPuZUn8Pvr"
      },
      "outputs": [],
      "source": [
        "import pandas as pd"
      ]
    },
    {
      "cell_type": "code",
      "source": [
        "file_path = '/content/transaction_dataset.csv'\n",
        "def read_csv(file_path):\n",
        "    data = pd.read_csv(file_path)\n",
        "    return data"
      ],
      "metadata": {
        "id": "epoTCefy_tbz"
      },
      "execution_count": 9,
      "outputs": []
    }
  ]
}