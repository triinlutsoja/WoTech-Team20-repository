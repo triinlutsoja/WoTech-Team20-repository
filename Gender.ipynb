{
  "nbformat": 4,
  "nbformat_minor": 0,
  "metadata": {
    "colab": {
      "provenance": [],
      "authorship_tag": "ABX9TyOMJeDePXscI6yyBi9upQaZ",
      "include_colab_link": true
    },
    "kernelspec": {
      "name": "python3",
      "display_name": "Python 3"
    },
    "language_info": {
      "name": "python"
    }
  },
  "cells": [
    {
      "cell_type": "markdown",
      "metadata": {
        "id": "view-in-github",
        "colab_type": "text"
      },
      "source": [
        "<a href=\"https://colab.research.google.com/github/triinlutsoja/WoTech-Team20-repository/blob/lesson-14%2FLiisa-chart/Gender.ipynb\" target=\"_parent\"><img src=\"https://colab.research.google.com/assets/colab-badge.svg\" alt=\"Open In Colab\"/></a>"
      ]
    },
    {
      "cell_type": "code",
      "execution_count": null,
      "metadata": {
        "id": "Dp6bgrLR3OJE"
      },
      "outputs": [],
      "source": [
        "gender_counts = df['Gender'].value_counts(dropna=False)\n",
        "\n",
        "plt.bar(gender_counts.index.astype(str), gender_counts.values, color='skyblue')\n",
        "plt.title('Gender Distribution (Including NaN)')\n",
        "plt.xlabel('Gender')\n",
        "plt.xticks(rotation=45, ha='right')\n",
        "\n",
        "plt.show()"
      ]
    }
  ]
}